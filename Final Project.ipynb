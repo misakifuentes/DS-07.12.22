{
 "cells": [
  {
   "cell_type": "markdown",
   "id": "5c963ae9",
   "metadata": {},
   "source": [
    "DS 07.12.22\n",
    "Final Project Submission\n",
    "Misaki Fuentes-Maruyama"
   ]
  },
  {
   "cell_type": "code",
   "execution_count": 35,
   "id": "d268d449",
   "metadata": {},
   "outputs": [],
   "source": [
    "import numpy as np #import numpy as np is a common abbreviation and alias for the library\n",
    "import pandas as pd #import pandas as pd is a common abbreviation and alias for the library\n",
    "import matplotlib.pyplot as plt #import matplotlib.pyplot as plt is a common abbreviation and alias for the library\n",
    "plt.rcParams['figure.figsize']=(20.0, 10.0)\n",
    "\n",
    "#Dataset was downloaded from Kaggle. url (https://www.kaggle.com/datasets/danofer/law-school-admissions-bar-passage)\n",
    "#Law School Admissions dataset from the Law School Admissions Council (LSAC) from 1991 through 1997.\n",
    "#LSAC tracked some twenty-seven thousand law students through law school, graduation, and sittings for bar exams.\n",
    "df = pd.read_csv('bar_pass_prediction.csv') #assigning the pandas read function for our dataset file to the alias df"
   ]
  },
  {
   "cell_type": "code",
   "execution_count": 33,
   "id": "beb44382",
   "metadata": {},
   "outputs": [
    {
     "data": {
      "text/plain": [
       "(22407, 39)"
      ]
     },
     "execution_count": 33,
     "metadata": {},
     "output_type": "execute_result"
    }
   ],
   "source": [
    "df.shape #shape identifies the number of rows and columns"
   ]
  },
  {
   "cell_type": "code",
   "execution_count": 34,
   "id": "0270bbf4",
   "metadata": {},
   "outputs": [
    {
     "data": {
      "text/html": [
       "<div>\n",
       "<style scoped>\n",
       "    .dataframe tbody tr th:only-of-type {\n",
       "        vertical-align: middle;\n",
       "    }\n",
       "\n",
       "    .dataframe tbody tr th {\n",
       "        vertical-align: top;\n",
       "    }\n",
       "\n",
       "    .dataframe thead th {\n",
       "        text-align: right;\n",
       "    }\n",
       "</style>\n",
       "<table border=\"1\" class=\"dataframe\">\n",
       "  <thead>\n",
       "    <tr style=\"text-align: right;\">\n",
       "      <th></th>\n",
       "      <th>decile1b</th>\n",
       "      <th>decile3</th>\n",
       "      <th>ID</th>\n",
       "      <th>decile1</th>\n",
       "      <th>sex</th>\n",
       "      <th>race</th>\n",
       "      <th>cluster</th>\n",
       "      <th>lsat</th>\n",
       "      <th>ugpa</th>\n",
       "      <th>zfygpa</th>\n",
       "      <th>...</th>\n",
       "      <th>hisp</th>\n",
       "      <th>pass_bar</th>\n",
       "      <th>bar</th>\n",
       "      <th>bar_passed</th>\n",
       "      <th>tier</th>\n",
       "      <th>index6040</th>\n",
       "      <th>indxgrp</th>\n",
       "      <th>indxgrp2</th>\n",
       "      <th>dnn_bar_pass_prediction</th>\n",
       "      <th>gpa</th>\n",
       "    </tr>\n",
       "  </thead>\n",
       "  <tbody>\n",
       "    <tr>\n",
       "      <th>0</th>\n",
       "      <td>10.0</td>\n",
       "      <td>10.0</td>\n",
       "      <td>2</td>\n",
       "      <td>10.0</td>\n",
       "      <td>1.0</td>\n",
       "      <td>7.0</td>\n",
       "      <td>1.0</td>\n",
       "      <td>44.0</td>\n",
       "      <td>3.5</td>\n",
       "      <td>1.33</td>\n",
       "      <td>...</td>\n",
       "      <td>0</td>\n",
       "      <td>1</td>\n",
       "      <td>a Passed 1st time</td>\n",
       "      <td>True</td>\n",
       "      <td>4.0</td>\n",
       "      <td>886.842082</td>\n",
       "      <td>g 700+</td>\n",
       "      <td>i 820+</td>\n",
       "      <td>0.979804</td>\n",
       "      <td>3.5</td>\n",
       "    </tr>\n",
       "    <tr>\n",
       "      <th>1</th>\n",
       "      <td>5.0</td>\n",
       "      <td>4.0</td>\n",
       "      <td>3</td>\n",
       "      <td>5.0</td>\n",
       "      <td>1.0</td>\n",
       "      <td>7.0</td>\n",
       "      <td>2.0</td>\n",
       "      <td>29.0</td>\n",
       "      <td>3.5</td>\n",
       "      <td>-0.11</td>\n",
       "      <td>...</td>\n",
       "      <td>0</td>\n",
       "      <td>1</td>\n",
       "      <td>a Passed 1st time</td>\n",
       "      <td>True</td>\n",
       "      <td>2.0</td>\n",
       "      <td>649.999987</td>\n",
       "      <td>f 640-700</td>\n",
       "      <td>f 640-700</td>\n",
       "      <td>0.979804</td>\n",
       "      <td>3.5</td>\n",
       "    </tr>\n",
       "    <tr>\n",
       "      <th>2</th>\n",
       "      <td>3.0</td>\n",
       "      <td>2.0</td>\n",
       "      <td>36</td>\n",
       "      <td>3.0</td>\n",
       "      <td>2.0</td>\n",
       "      <td>7.0</td>\n",
       "      <td>3.0</td>\n",
       "      <td>36.0</td>\n",
       "      <td>3.5</td>\n",
       "      <td>-0.64</td>\n",
       "      <td>...</td>\n",
       "      <td>0</td>\n",
       "      <td>1</td>\n",
       "      <td>a Passed 1st time</td>\n",
       "      <td>True</td>\n",
       "      <td>3.0</td>\n",
       "      <td>760.526298</td>\n",
       "      <td>g 700+</td>\n",
       "      <td>h 760-820</td>\n",
       "      <td>0.979804</td>\n",
       "      <td>3.5</td>\n",
       "    </tr>\n",
       "    <tr>\n",
       "      <th>3</th>\n",
       "      <td>7.0</td>\n",
       "      <td>4.0</td>\n",
       "      <td>52</td>\n",
       "      <td>7.0</td>\n",
       "      <td>2.0</td>\n",
       "      <td>7.0</td>\n",
       "      <td>3.0</td>\n",
       "      <td>39.0</td>\n",
       "      <td>3.5</td>\n",
       "      <td>0.34</td>\n",
       "      <td>...</td>\n",
       "      <td>0</td>\n",
       "      <td>1</td>\n",
       "      <td>a Passed 1st time</td>\n",
       "      <td>True</td>\n",
       "      <td>3.0</td>\n",
       "      <td>807.894717</td>\n",
       "      <td>g 700+</td>\n",
       "      <td>h 760-820</td>\n",
       "      <td>0.979804</td>\n",
       "      <td>3.5</td>\n",
       "    </tr>\n",
       "    <tr>\n",
       "      <th>4</th>\n",
       "      <td>9.0</td>\n",
       "      <td>8.0</td>\n",
       "      <td>55</td>\n",
       "      <td>9.0</td>\n",
       "      <td>2.0</td>\n",
       "      <td>7.0</td>\n",
       "      <td>4.0</td>\n",
       "      <td>48.0</td>\n",
       "      <td>3.5</td>\n",
       "      <td>1.02</td>\n",
       "      <td>...</td>\n",
       "      <td>0</td>\n",
       "      <td>1</td>\n",
       "      <td>a Passed 1st time</td>\n",
       "      <td>True</td>\n",
       "      <td>5.0</td>\n",
       "      <td>949.999974</td>\n",
       "      <td>g 700+</td>\n",
       "      <td>i 820+</td>\n",
       "      <td>0.979804</td>\n",
       "      <td>3.5</td>\n",
       "    </tr>\n",
       "    <tr>\n",
       "      <th>5</th>\n",
       "      <td>3.0</td>\n",
       "      <td>5.0</td>\n",
       "      <td>72</td>\n",
       "      <td>3.0</td>\n",
       "      <td>1.0</td>\n",
       "      <td>7.0</td>\n",
       "      <td>3.0</td>\n",
       "      <td>40.0</td>\n",
       "      <td>3.5</td>\n",
       "      <td>-0.64</td>\n",
       "      <td>...</td>\n",
       "      <td>0</td>\n",
       "      <td>1</td>\n",
       "      <td>a Passed 1st time</td>\n",
       "      <td>True</td>\n",
       "      <td>3.0</td>\n",
       "      <td>823.684190</td>\n",
       "      <td>g 700+</td>\n",
       "      <td>i 820+</td>\n",
       "      <td>0.979804</td>\n",
       "      <td>3.5</td>\n",
       "    </tr>\n",
       "    <tr>\n",
       "      <th>6</th>\n",
       "      <td>9.0</td>\n",
       "      <td>7.0</td>\n",
       "      <td>74</td>\n",
       "      <td>9.0</td>\n",
       "      <td>1.0</td>\n",
       "      <td>7.0</td>\n",
       "      <td>3.0</td>\n",
       "      <td>34.0</td>\n",
       "      <td>3.5</td>\n",
       "      <td>0.96</td>\n",
       "      <td>...</td>\n",
       "      <td>0</td>\n",
       "      <td>1</td>\n",
       "      <td>a Passed 1st time</td>\n",
       "      <td>True</td>\n",
       "      <td>3.0</td>\n",
       "      <td>728.947352</td>\n",
       "      <td>g 700+</td>\n",
       "      <td>g 700-760</td>\n",
       "      <td>0.979804</td>\n",
       "      <td>3.5</td>\n",
       "    </tr>\n",
       "    <tr>\n",
       "      <th>7</th>\n",
       "      <td>10.0</td>\n",
       "      <td>10.0</td>\n",
       "      <td>89</td>\n",
       "      <td>10.0</td>\n",
       "      <td>2.0</td>\n",
       "      <td>7.0</td>\n",
       "      <td>3.0</td>\n",
       "      <td>40.0</td>\n",
       "      <td>3.5</td>\n",
       "      <td>1.34</td>\n",
       "      <td>...</td>\n",
       "      <td>0</td>\n",
       "      <td>1</td>\n",
       "      <td>a Passed 1st time</td>\n",
       "      <td>True</td>\n",
       "      <td>3.0</td>\n",
       "      <td>823.684190</td>\n",
       "      <td>g 700+</td>\n",
       "      <td>i 820+</td>\n",
       "      <td>0.979804</td>\n",
       "      <td>3.5</td>\n",
       "    </tr>\n",
       "    <tr>\n",
       "      <th>8</th>\n",
       "      <td>4.0</td>\n",
       "      <td>2.0</td>\n",
       "      <td>109</td>\n",
       "      <td>4.0</td>\n",
       "      <td>2.0</td>\n",
       "      <td>7.0</td>\n",
       "      <td>4.0</td>\n",
       "      <td>40.0</td>\n",
       "      <td>3.5</td>\n",
       "      <td>-0.44</td>\n",
       "      <td>...</td>\n",
       "      <td>0</td>\n",
       "      <td>1</td>\n",
       "      <td>a Passed 1st time</td>\n",
       "      <td>True</td>\n",
       "      <td>5.0</td>\n",
       "      <td>823.684190</td>\n",
       "      <td>g 700+</td>\n",
       "      <td>i 820+</td>\n",
       "      <td>0.979804</td>\n",
       "      <td>3.5</td>\n",
       "    </tr>\n",
       "    <tr>\n",
       "      <th>9</th>\n",
       "      <td>7.0</td>\n",
       "      <td>5.0</td>\n",
       "      <td>143</td>\n",
       "      <td>7.0</td>\n",
       "      <td>1.0</td>\n",
       "      <td>4.0</td>\n",
       "      <td>6.0</td>\n",
       "      <td>28.0</td>\n",
       "      <td>3.5</td>\n",
       "      <td>0.48</td>\n",
       "      <td>...</td>\n",
       "      <td>0</td>\n",
       "      <td>0</td>\n",
       "      <td>c Failed</td>\n",
       "      <td>False</td>\n",
       "      <td>1.0</td>\n",
       "      <td>634.210514</td>\n",
       "      <td>e 580-640</td>\n",
       "      <td>e 580-640</td>\n",
       "      <td>0.979804</td>\n",
       "      <td>3.5</td>\n",
       "    </tr>\n",
       "  </tbody>\n",
       "</table>\n",
       "<p>10 rows × 39 columns</p>\n",
       "</div>"
      ],
      "text/plain": [
       "   decile1b  decile3   ID  decile1  sex  race  cluster  lsat  ugpa  zfygpa  \\\n",
       "0      10.0     10.0    2     10.0  1.0   7.0      1.0  44.0   3.5    1.33   \n",
       "1       5.0      4.0    3      5.0  1.0   7.0      2.0  29.0   3.5   -0.11   \n",
       "2       3.0      2.0   36      3.0  2.0   7.0      3.0  36.0   3.5   -0.64   \n",
       "3       7.0      4.0   52      7.0  2.0   7.0      3.0  39.0   3.5    0.34   \n",
       "4       9.0      8.0   55      9.0  2.0   7.0      4.0  48.0   3.5    1.02   \n",
       "5       3.0      5.0   72      3.0  1.0   7.0      3.0  40.0   3.5   -0.64   \n",
       "6       9.0      7.0   74      9.0  1.0   7.0      3.0  34.0   3.5    0.96   \n",
       "7      10.0     10.0   89     10.0  2.0   7.0      3.0  40.0   3.5    1.34   \n",
       "8       4.0      2.0  109      4.0  2.0   7.0      4.0  40.0   3.5   -0.44   \n",
       "9       7.0      5.0  143      7.0  1.0   4.0      6.0  28.0   3.5    0.48   \n",
       "\n",
       "   ...  hisp pass_bar                bar bar_passed  tier   index6040  \\\n",
       "0  ...     0        1  a Passed 1st time       True   4.0  886.842082   \n",
       "1  ...     0        1  a Passed 1st time       True   2.0  649.999987   \n",
       "2  ...     0        1  a Passed 1st time       True   3.0  760.526298   \n",
       "3  ...     0        1  a Passed 1st time       True   3.0  807.894717   \n",
       "4  ...     0        1  a Passed 1st time       True   5.0  949.999974   \n",
       "5  ...     0        1  a Passed 1st time       True   3.0  823.684190   \n",
       "6  ...     0        1  a Passed 1st time       True   3.0  728.947352   \n",
       "7  ...     0        1  a Passed 1st time       True   3.0  823.684190   \n",
       "8  ...     0        1  a Passed 1st time       True   5.0  823.684190   \n",
       "9  ...     0        0           c Failed      False   1.0  634.210514   \n",
       "\n",
       "     indxgrp   indxgrp2  dnn_bar_pass_prediction  gpa  \n",
       "0     g 700+     i 820+                 0.979804  3.5  \n",
       "1  f 640-700  f 640-700                 0.979804  3.5  \n",
       "2     g 700+  h 760-820                 0.979804  3.5  \n",
       "3     g 700+  h 760-820                 0.979804  3.5  \n",
       "4     g 700+     i 820+                 0.979804  3.5  \n",
       "5     g 700+     i 820+                 0.979804  3.5  \n",
       "6     g 700+  g 700-760                 0.979804  3.5  \n",
       "7     g 700+     i 820+                 0.979804  3.5  \n",
       "8     g 700+     i 820+                 0.979804  3.5  \n",
       "9  e 580-640  e 580-640                 0.979804  3.5  \n",
       "\n",
       "[10 rows x 39 columns]"
      ]
     },
     "execution_count": 34,
     "metadata": {},
     "output_type": "execute_result"
    }
   ],
   "source": [
    "df.head(10) #head allows the user to pull a specified number of rows from the dataset"
   ]
  },
  {
   "cell_type": "code",
   "execution_count": 38,
   "id": "ba23aa1f",
   "metadata": {},
   "outputs": [
    {
     "name": "stdout",
     "output_type": "stream",
     "text": [
      "3.2864113134798414 26.20061435442568\n"
     ]
    }
   ],
   "source": [
    "#The linear regression model requires variables with continous data.\n",
    "#My thesis is the higher the undergraduate GPA the higher the lsat score.\n",
    "\n",
    "X = df['ugpa'].values #assigning undergraduate gpa as the X variable or independent variable\n",
    "Y = df['lsat'].values #assigning lsat score as the Y variable or independent variable\n",
    "\n",
    "mean_x = np.mean(X) #calculating the mean of the X variable\n",
    "mean_y = np.mean(Y) #calculating the mean of the Y variable\n",
    "\n",
    "n= len(X) #total number of values in the sample\n",
    "\n",
    "#the following formula will calculate the m(b1) and c(b0) values\n",
    "numer = 0\n",
    "denom = 0\n",
    "for i in range (n):\n",
    "    numer += (X[i] - mean_x) * (Y[i] - mean_y)\n",
    "    denom += (X[i] - mean_x) ** 2\n",
    "b1 = numer/denom\n",
    "b0 = mean_y - (b1 * mean_x)\n",
    "\n",
    "print(b1, b0) #show coefficients for y=mx+b or the regression line"
   ]
  },
  {
   "cell_type": "code",
   "execution_count": 45,
   "id": "042ec0e3",
   "metadata": {},
   "outputs": [
    {
     "data": {
      "image/png": "[encoded data removed]",
      "text/plain": [
       "<Figure size 1440x720 with 1 Axes>"
      ]
     },
     "metadata": {
      "needs_background": "light"
     },
     "output_type": "display_data"
    }
   ],
   "source": [
    "#plot the values for the regression line\n",
    "max_x = np.max(X) + 4\n",
    "min_x = np.min(X) - 2\n",
    "\n",
    "#calculate line values x and y\n",
    "x = np.linspace (min_x, max_x, 1000)\n",
    "y = b0 + b1 * x\n",
    "\n",
    "#plot the regression line on the scatter plot\n",
    "plt.plot(x, y, color = 'b', label = 'Regression Line')\n",
    "\n",
    "plt.scatter(X, Y, c = 'r', label = 'Scatter Plot') #plot the values for the below scatter plot graph\n",
    "plt.xlabel('ugpa') #assign the x-axis label as ugpa\n",
    "plt.ylabel('lsat') #assign the y-axis label as lsat\n",
    "plt.legend() # create legend for scatter plot and regression line\n",
    "plt.show() #show scatter plot"
   ]
  },
  {
   "cell_type": "code",
   "execution_count": 61,
   "id": "47e53c53",
   "metadata": {},
   "outputs": [
    {
     "name": "stdout",
     "output_type": "stream",
     "text": [
      "0.05908275601176016\n"
     ]
    }
   ],
   "source": [
    "#The follow calculations will determine the r2 for the linear regression model.\n",
    "ss_t = 0 #the sum of squares\n",
    "ss_r = 0 #the sum of squares of residuals\n",
    "for i in range (n):\n",
    "    y_pred = b0 + b1 * X[i]\n",
    "    ss_t += (Y[i] - mean_y)**2\n",
    "    ss_r += (Y[i] - y_pred)**2\n",
    "r2 = 1 - (ss_r/ss_t)\n",
    "print(r2) #show the calculated r2"
   ]
  },
  {
   "cell_type": "code",
   "execution_count": 65,
   "id": "5fd7bb8d",
   "metadata": {},
   "outputs": [
    {
     "data": {
      "image/png": "[encoded data removed]",
      "text/plain": [
       "<Figure size 432x288 with 1 Axes>"
      ]
     },
     "metadata": {},
     "output_type": "display_data"
    }
   ],
   "source": [
    "#The distribution of the UGPA values or X variable can be assessed with a box plot.\n",
    "fig, ax1 = plt.subplots()\n",
    "\n",
    "ax1.set_title('UGPA Box Plot') #assigning the title as UGPA Box Plot\n",
    "ax1.set_xlabel('Sample') #assigning the x-axis label as Sample\n",
    "ax1.set_ylabel('UGPA') #assigning the y-axis label as UGPA\n",
    "\n",
    "#the boxplot and show functions via matplotlib.pyplot library\n",
    "box_plot_data=[X] #assigning the X values to box_plot_data \n",
    "plt.boxplot(box_plot_data) #create box plot with the box plot data\n",
    "plt.show() #show box plot"
   ]
  },
  {
   "cell_type": "code",
   "execution_count": 66,
   "id": "fd34f3a4",
   "metadata": {},
   "outputs": [
    {
     "data": {
      "image/png": "[encoded data removed]",
      "text/plain": [
       "<Figure size 432x288 with 1 Axes>"
      ]
     },
     "metadata": {},
     "output_type": "display_data"
    }
   ],
   "source": [
    "#The distribution of the LSAT values or Y variable can be assessed with a box plot.\n",
    "fig, ax1 = plt.subplots()\n",
    "\n",
    "ax1.set_title('LSAT Box Plot') #assigning the title as LSAT Box Plot\n",
    "ax1.set_xlabel('Sample') #assigning the x-axis label as Sample\n",
    "ax1.set_ylabel('LSAT') #assigning the y-axis label as LSAT\n",
    "\n",
    "#the boxplot and show functions via matplotlib.pyplot library\n",
    "box_plot_data=[Y] #assigning the Y values to box_plot_data \n",
    "plt.boxplot(box_plot_data) #create box plot with the box plot data\n",
    "plt.show() #show box plot"
   ]
  },
  {
   "cell_type": "code",
   "execution_count": 71,
   "id": "e9cbea14",
   "metadata": {},
   "outputs": [
    {
     "data": {
      "image/png": "[encoded data removed]",
      "text/plain": [
       "<Figure size 432x288 with 1 Axes>"
      ]
     },
     "metadata": {},
     "output_type": "display_data"
    }
   ],
   "source": [
    "#Another method of assessing the distribution of the UGPA values or X variable is a histogram.\n",
    "\n",
    "fig, ax1 = plt.subplots()\n",
    "ax1.set_title('UGPA Histogram') #assigning the title as UGPA Histogram\n",
    "ax1.set_xlabel('UGPA') #assigning the x-axis label as UGPA\n",
    "ax1.set_ylabel('Number of Observations') #assigning the y-axis label as Number of Observations\n",
    "\n",
    "plt.style.use('seaborn-white') #assigning the seaborn-white style for our histogram\n",
    "plt.hist(X);"
   ]
  },
  {
   "cell_type": "code",
   "execution_count": 70,
   "id": "f82ea359",
   "metadata": {},
   "outputs": [
    {
     "data": {
      "image/png": "[encoded data removed]",
      "text/plain": [
       "<Figure size 432x288 with 1 Axes>"
      ]
     },
     "metadata": {},
     "output_type": "display_data"
    }
   ],
   "source": [
    "#Another method of assessing the distribution of the LSAT values or Y variable is a histogram.\n",
    "\n",
    "fig, ax1 = plt.subplots()\n",
    "ax1.set_title('LSAT Histogram') #assigning the title as LSAT Histogram\n",
    "ax1.set_xlabel('LSAT') #assigning the x-axis label as LSAT\n",
    "ax1.set_ylabel('Number of Observations') #assigning the y-axis label as Number of Observations\n",
    "\n",
    "plt.style.use('seaborn-white')\n",
    "plt.hist(Y);"
   ]
  },
  {
   "cell_type": "markdown",
   "id": "ef0a58f7",
   "metadata": {},
   "source": [
    "Project Conclusion: A linear regression model provides insight into the relationship between an independent and dependent variable. The thesis for my final project was a higher gpa score would indicate a higher lsat score. It appears the ugpa or undergraduate gpa had a positive correlation with the lsat or lsat score. The dataset selected from Kaggle has 22,407 observations, which is a large sample. The box plots and histograms allow for the distribution of the data to be assessed. The data appears to be positively skewed, which is not surprising given that the variables are gpa and lsat scores. To summarize, python libraries such as pandas and matplotlib allow for the application of a linear regression model against datasets with continous variables to test a thesis on the relationship between an independent and dependent variable."
   ]
  }
 ],
 "metadata": {
  "kernelspec": {
   "display_name": "Python 3 (ipykernel)",
   "language": "python",
   "name": "python3"
  },
  "language_info": {
   "codemirror_mode": {
    "name": "ipython",
    "version": 3
   },
   "file_extension": ".py",
   "mimetype": "text/x-python",
   "name": "python",
   "nbconvert_exporter": "python",
   "pygments_lexer": "ipython3",
   "version": "3.9.12"
  }
 },
 "nbformat": 4,
 "nbformat_minor": 5
}
